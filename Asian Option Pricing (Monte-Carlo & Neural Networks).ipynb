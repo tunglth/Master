{
 "cells": [
  {
   "cell_type": "markdown",
   "id": "9fa0a964-38f0-4384-a70c-142bb66216b4",
   "metadata": {},
   "source": [
    "# Fast price approximator to time dependent derivatives"
   ]
  },
  {
   "cell_type": "code",
   "execution_count": 1,
   "id": "2843f3f3-3e19-4f87-9d50-a94454a90f81",
   "metadata": {
    "executionCancelledAt": null,
    "executionTime": 2090,
    "lastExecutedAt": 1699390941127,
    "lastScheduledRunId": null,
    "lastSuccessfullyExecutedCode": "import numpy as np\nimport matplotlib.pyplot as plt\nimport pandas as pd\n\nimport tensorflow as tf\nfrom tensorflow import keras\nfrom tensorflow.keras.layers import Dense, Dropout, Activation, LeakyReLU, ELU, ReLU\nfrom tensorflow.keras.optimizers import RMSprop\n\nfrom keras.models import Sequential\n\nfrom sklearn.model_selection import train_test_split\nfrom sklearn.metrics import mean_squared_error, mean_absolute_error, r2_score\nfrom sklearn.preprocessing import StandardScaler\n\nimport time"
   },
   "outputs": [],
   "source": [
    "import numpy as np\n",
    "import matplotlib.pyplot as plt\n",
    "import pandas as pd\n",
    "\n",
    "import tensorflow as tf\n",
    "from tensorflow import keras\n",
    "from tensorflow.keras.layers import Dense, Dropout, Activation, LeakyReLU, ELU, ReLU\n",
    "from tensorflow.keras.optimizers import RMSprop\n",
    "\n",
    "from keras.models import Sequential\n",
    "\n",
    "from sklearn.model_selection import train_test_split\n",
    "from sklearn.metrics import mean_squared_error, mean_absolute_error, r2_score\n",
    "from sklearn.preprocessing import StandardScaler\n",
    "\n",
    "import time"
   ]
  },
  {
   "cell_type": "markdown",
   "id": "0b581355-4611-46cc-9702-036786d156cd",
   "metadata": {},
   "source": [
    "## Monte-Carlo Simulation"
   ]
  },
  {
   "cell_type": "markdown",
   "id": "ac81fddc-3262-45eb-9c44-749e63bb0d20",
   "metadata": {},
   "source": [
    "Here we create a function to estimate the price of an Arithmetic Asian Call Option.\n",
    "\n",
    "We start by simulating X paths for the underlying asset price under the equivalent martingale measure over 1 year with a daily time step, assuming that there are 22 business days in a month. Hence 22 × 12 = 264 business days in a year.\n",
    "\n",
    "We then calculate the payoff of each simulation and find the price $C_t$ of the option.\n",
    "\n",
    "$$ Payoffs = \\left[ \\frac{1}{n}\\sum_{i=1}^{n}{S_{t_i}} - K \\right]^+ $$\n",
    "\n",
    "$$ C_t = e^{-rt}\\mathbb{E}[Payoffs]$$\n",
    "\n",
    "assuming the underlying price process is GBM."
   ]
  },
  {
   "cell_type": "code",
   "execution_count": 2,
   "id": "f0a998f3-feea-4a4c-8a1f-3c34b8d941c4",
   "metadata": {
    "executionCancelledAt": null,
    "executionTime": 53,
    "lastExecutedAt": 1699390941181,
    "lastScheduledRunId": null,
    "lastSuccessfullyExecutedCode": "def generate_option_price(S0, K, r, sigma, maturity, n_paths, rng: np.random._generator.Generator):\n    \"\"\"\n    Function to generate data for asset prices and then calculate payoff and option price\n    \"\"\"\n\n    T = maturity / 264      # Maturity in year (264 days per year)\n    time_step = 1 / maturity\n    \n    logS = np.empty((maturity + 1, n_paths))  # Pre-allocation with an empty array\n    \n    logS[0,:] = np.log(S0)    # Initial log price\n    \n    m = r - .5 * sigma**2     # Expected log return\n    \n    # Geometric Brownian Motion:\n    for i in range(1, maturity + 1):\n        std_innov = rng.standard_normal(n_paths)\n        logS[i, :] = logS[i - 1, :] + m * time_step + sigma * np.sqrt(time_step) * std_innov\n        \n    Simulated_prices = np.exp(logS)\n    \n    # Calulcate payoffs\n    A = np.mean(Simulated_prices[1:,:], axis=0)\n    Payoffs = np.maximum(A - K, 0)\n     \n    # Calculate Asian option price\n    asian_option_price_mc = np.exp(-r * T) * np.mean(Payoffs)\n    \n    return asian_option_price_mc"
   },
   "outputs": [],
   "source": [
    "def generate_option_price(S0, K, r, sigma, maturity, n_paths, rng: np.random._generator.Generator):\n",
    "    \"\"\"\n",
    "    Function to generate data for asset prices and then calculate payoff and option price\n",
    "    \"\"\"\n",
    "\n",
    "    T = maturity / 264      # Maturity in year (264 days per year)\n",
    "    time_step = 1 / maturity\n",
    "    \n",
    "    logS = np.empty((maturity + 1, n_paths))  # Pre-allocation with an empty array\n",
    "    \n",
    "    logS[0,:] = np.log(S0)    # Initial log price\n",
    "    \n",
    "    m = r - .5 * sigma**2     # Expected log return\n",
    "    \n",
    "    # Geometric Brownian Motion:\n",
    "    for i in range(1, maturity + 1):\n",
    "        std_innov = rng.standard_normal(n_paths)\n",
    "        logS[i, :] = logS[i - 1, :] + m * time_step + sigma * np.sqrt(time_step) * std_innov\n",
    "        \n",
    "    Simulated_prices = np.exp(logS)\n",
    "    \n",
    "    # Calulcate payoffs\n",
    "    A = np.mean(Simulated_prices[1:,:], axis=0)\n",
    "    Payoffs = np.maximum(A - K, 0)\n",
    "     \n",
    "    # Calculate Asian option price\n",
    "    asian_option_price_mc = np.exp(-r * T) * np.mean(Payoffs)\n",
    "    \n",
    "    return asian_option_price_mc"
   ]
  },
  {
   "cell_type": "markdown",
   "id": "5be026eb-d61f-437f-a6db-9c4bf9e0215b",
   "metadata": {},
   "source": [
    "With below codes we randomly generate 15000 values for our parameters, which are: asset prices at time 0, strikes, interest rates, volatilities and days to maturity. The range value for these parameters are set according to _Gan, lirong, Wang, Huamao and Yang, Zhaojun (2020)_. These parameters will play the role of independent variables (X) in our neural network model."
   ]
  },
  {
   "cell_type": "code",
   "execution_count": 3,
   "id": "4599c3fe-40c5-4bba-97e3-a411adb76a3b",
   "metadata": {
    "executionCancelledAt": null,
    "executionTime": 48,
    "jupyter": {
     "outputs_hidden": false,
     "source_hidden": false
    },
    "lastExecutedAt": 1699390941229,
    "lastScheduledRunId": null,
    "lastSuccessfullyExecutedCode": "num_samples = 15000\n\nnp.random.seed(123)\nS0 = np.random.uniform(10, 500, num_samples)  # Initial stock price, from 10 to 500 euros\n\nnp.random.seed(123)\nK = np.random.randint(S0*0.8, S0*1.2, num_samples)  # Strike price, picked among 80% and 120% initial stock price\n\nr_range = np.arange(0.01, 0.031, 0.001)  # Value range for Risk-free rate: 1% to 3%\nsigma_range = np.arange(0.05, 0.901, 0.005)  # Value range for Volatility: 5% to 90%\nmaturity_range = np.arange(22, 793, 22) # Value range for Maturity: 1 month to 3 years, 22 days per month\n\n# Choose randomly 15000 interest rates, volatilities and days to maturity in above value ranges\nnp.random.seed(123)\nr = np.random.choice(r_range, num_samples) \n\nnp.random.seed(123)\nsigma = np.random.choice(sigma_range, num_samples)\n\nnp.random.seed(123)\nmaturity = np.random.choice(maturity_range, num_samples)\n\ndata = {\n        'Initial Stock Prices': S0,\n        'Strikes': K,\n        'Risk-free Rates': r,\n        'Volatility': sigma,\n        'Maturity': maturity\n    }\n\ndf = pd.DataFrame(data)\ndf.head()",
    "outputsMetadata": {
     "0": {
      "height": 194,
      "type": "dataFrame"
     }
    }
   },
   "outputs": [
    {
     "data": {
      "text/html": [
       "<div>\n",
       "<style scoped>\n",
       "    .dataframe tbody tr th:only-of-type {\n",
       "        vertical-align: middle;\n",
       "    }\n",
       "\n",
       "    .dataframe tbody tr th {\n",
       "        vertical-align: top;\n",
       "    }\n",
       "\n",
       "    .dataframe thead th {\n",
       "        text-align: right;\n",
       "    }\n",
       "</style>\n",
       "<table border=\"1\" class=\"dataframe\">\n",
       "  <thead>\n",
       "    <tr style=\"text-align: right;\">\n",
       "      <th></th>\n",
       "      <th>Initial Stock Prices</th>\n",
       "      <th>Strikes</th>\n",
       "      <th>Risk-free Rates</th>\n",
       "      <th>Volatility</th>\n",
       "      <th>Maturity</th>\n",
       "    </tr>\n",
       "  </thead>\n",
       "  <tbody>\n",
       "    <tr>\n",
       "      <th>0</th>\n",
       "      <td>351.269901</td>\n",
       "      <td>390</td>\n",
       "      <td>0.023</td>\n",
       "      <td>0.595</td>\n",
       "      <td>66</td>\n",
       "    </tr>\n",
       "    <tr>\n",
       "      <th>1</th>\n",
       "      <td>150.208274</td>\n",
       "      <td>122</td>\n",
       "      <td>0.012</td>\n",
       "      <td>0.680</td>\n",
       "      <td>638</td>\n",
       "    </tr>\n",
       "    <tr>\n",
       "      <th>2</th>\n",
       "      <td>121.157212</td>\n",
       "      <td>124</td>\n",
       "      <td>0.012</td>\n",
       "      <td>0.380</td>\n",
       "      <td>770</td>\n",
       "    </tr>\n",
       "    <tr>\n",
       "      <th>3</th>\n",
       "      <td>280.144237</td>\n",
       "      <td>322</td>\n",
       "      <td>0.016</td>\n",
       "      <td>0.540</td>\n",
       "      <td>396</td>\n",
       "    </tr>\n",
       "    <tr>\n",
       "      <th>4</th>\n",
       "      <td>362.539795</td>\n",
       "      <td>307</td>\n",
       "      <td>0.027</td>\n",
       "      <td>0.135</td>\n",
       "      <td>440</td>\n",
       "    </tr>\n",
       "  </tbody>\n",
       "</table>\n",
       "</div>"
      ],
      "text/plain": [
       "   Initial Stock Prices  Strikes  Risk-free Rates  Volatility  Maturity\n",
       "0            351.269901      390            0.023       0.595        66\n",
       "1            150.208274      122            0.012       0.680       638\n",
       "2            121.157212      124            0.012       0.380       770\n",
       "3            280.144237      322            0.016       0.540       396\n",
       "4            362.539795      307            0.027       0.135       440"
      ]
     },
     "execution_count": 3,
     "metadata": {},
     "output_type": "execute_result"
    }
   ],
   "source": [
    "num_samples = 15000\n",
    "\n",
    "np.random.seed(123)\n",
    "S0 = np.random.uniform(10, 500, num_samples)  # Initial stock price, from 10 to 500 euros\n",
    "\n",
    "np.random.seed(123)\n",
    "K = np.random.randint(S0*0.8, S0*1.2, num_samples)  # Strike price, picked among 80% and 120% initial stock price\n",
    "\n",
    "r_range = np.arange(0.01, 0.031, 0.001)  # Value range for Risk-free rate: 1% to 3%\n",
    "sigma_range = np.arange(0.05, 0.901, 0.005)  # Value range for Volatility: 5% to 90%\n",
    "maturity_range = np.arange(22, 793, 22) # Value range for Maturity: 1 month to 3 years, 22 days per month\n",
    "\n",
    "# Choose randomly 15000 interest rates, volatilities and days to maturity in above value ranges\n",
    "np.random.seed(123)\n",
    "r = np.random.choice(r_range, num_samples) \n",
    "\n",
    "np.random.seed(123)\n",
    "sigma = np.random.choice(sigma_range, num_samples)\n",
    "\n",
    "np.random.seed(123)\n",
    "maturity = np.random.choice(maturity_range, num_samples)\n",
    "\n",
    "data = {\n",
    "        'Initial Stock Prices': S0,\n",
    "        'Strikes': K,\n",
    "        'Risk-free Rates': r,\n",
    "        'Volatility': sigma,\n",
    "        'Maturity': maturity\n",
    "    }\n",
    "\n",
    "df = pd.DataFrame(data)\n",
    "df.head()"
   ]
  },
  {
   "cell_type": "markdown",
   "id": "b4273e3d-1b72-4c45-a33b-f3fb2c7e150c",
   "metadata": {},
   "source": [
    "Now we start to generate the prices of these Asian options using Monte Carlo method. For each option, we simulate 5000 scenarios and thus get 5000 payoffs. We then calculate the price based on these scenarios and get 1 price for each option. This will be our dependent variable (Y) in the neural network model."
   ]
  },
  {
   "cell_type": "code",
   "execution_count": 4,
   "id": "08a351f6-4d76-4d0c-bcb3-d1764592aee7",
   "metadata": {
    "executionCancelledAt": null,
    "executionTime": 656784,
    "lastExecutedAt": 1699391598013,
    "lastScheduledRunId": null,
    "lastSuccessfullyExecutedCode": "np.random.seed(123)\nrng = np.random.default_rng(seed=123)\nn_paths = 5000\nprices = []\n\nstart_time_MC = time.time() #record time we need to simulate using Monte Carlo method\n\nfor i in range(df.shape[0]):\n    price = generate_option_price(df.iloc[i,0], df.iloc[i,1], df.iloc[i,2], df.iloc[i,3], df.iloc[i,4], n_paths, rng)\n    prices.append(price)\n    \nend_time_MC = time.time()"
   },
   "outputs": [],
   "source": [
    "np.random.seed(123)\n",
    "rng = np.random.default_rng(seed=123)\n",
    "n_paths = 5000\n",
    "prices = []\n",
    "\n",
    "start_time_MC = time.time() #record time we need to simulate using Monte Carlo method\n",
    "\n",
    "for i in range(df.shape[0]):\n",
    "    price = generate_option_price(df.iloc[i,0], df.iloc[i,1], df.iloc[i,2], df.iloc[i,3], df.iloc[i,4], n_paths, rng)\n",
    "    prices.append(price)\n",
    "    \n",
    "end_time_MC = time.time()"
   ]
  },
  {
   "cell_type": "markdown",
   "id": "0491f4e9-5dd2-4a58-beb5-b904ccb89bae",
   "metadata": {},
   "source": [
    "We assign the independent variables and dependent variable to X and y respectively. We then scale X, and then divide the data into 3 parts: training set, validation set and testing set, with ratio 70/15/15."
   ]
  },
  {
   "cell_type": "code",
   "execution_count": 5,
   "id": "10030814-864f-4392-b12b-f354fadad761",
   "metadata": {
    "executionCancelledAt": null,
    "executionTime": 44,
    "lastExecutedAt": 1699391598058,
    "lastScheduledRunId": null,
    "lastSuccessfullyExecutedCode": "df['Option Prices'] = prices\nX, y = df[['Initial Stock Prices', 'Strikes', 'Risk-free Rates','Volatility', 'Maturity']], df[['Option Prices']]\n\nscaler = StandardScaler()\nX = scaler.fit_transform(X)\n\nX_train, X_temp, y_train, y_temp = train_test_split(X, y, test_size = 0.3, random_state = 42)\nX_val, X_test, y_val, y_test = train_test_split(X_temp, y_temp, test_size = 0.5, random_state = 42)"
   },
   "outputs": [],
   "source": [
    "df['Option Prices'] = prices\n",
    "X, y = df[['Initial Stock Prices', 'Strikes', 'Risk-free Rates','Volatility', 'Maturity']], df[['Option Prices']]\n",
    "\n",
    "scaler = StandardScaler()\n",
    "X = scaler.fit_transform(X)\n",
    "\n",
    "X_train, X_temp, y_train, y_temp = train_test_split(X, y, test_size = 0.3, random_state = 42)\n",
    "X_val, X_test, y_val, y_test = train_test_split(X_temp, y_temp, test_size = 0.5, random_state = 42)"
   ]
  },
  {
   "cell_type": "markdown",
   "id": "e6d5e67d-6883-4c19-b7ec-7d28879d031a",
   "metadata": {},
   "source": [
    "## Building Neural Network"
   ]
  },
  {
   "cell_type": "markdown",
   "id": "30dabbdb-ada1-4214-a919-726e208517f1",
   "metadata": {},
   "source": [
    "The optimal number of hidden layers being 4 is advocated by _Tugce Karatas, Amir Oskoui, Ali Hirsa (2019)_. This paper also proved that sigmoid and tanh are not suited for option pricing. Thus, 4 layers will be our choice for the Neural Networks."
   ]
  },
  {
   "cell_type": "markdown",
   "id": "a0db1c4c-6f71-44d3-86dd-101ed1f03a0c",
   "metadata": {},
   "source": [
    "Regarding the activation functions, _Gan, lirong, Wang, Huamao and Yang, Zhaojun (2020)_, suggested `LeakyReLU, ELU, ReLU` and `ELU` for Asian options. _Tugce Karatas, Amir Oskoui, Ali Hirsa (2019)_, on the other hand,suggested 4 `LeakyReLU` layers give the best result. But we also want to try a potential candidate for option pricing: `ReLU`, which is similar to the shape of option payoffs. Thus, we will try 3 models and pick out the one with the best result: First model with `LeakyReLU, ELU, ReLU` and `ELU`, second model with 4 `LeakyReLU` layers and the third model with 4 `ReLU` layers"
   ]
  },
  {
   "cell_type": "markdown",
   "id": "76153565-5c8c-4b0d-8571-c3c3614e1893",
   "metadata": {},
   "source": [
    "For each hidden layer, we add a `Dropout` rate 0.25 to avoid overfitting. The loss function will be Mean Squared Error, a popular metric for model evaluation. At this step, the number of epochs are 10, because we don't want to overfit (epoch too high) or underfit (epoch too low). Optimizer and number of neurons are chosen as suggested in _Gan, lirong, Wang, Huamao and Yang, Zhaojun (2020)_. But to test other possibilities for our model, we will change these 2 parameters later and pick out the best ones."
   ]
  },
  {
   "cell_type": "code",
   "execution_count": 6,
   "id": "5d91a686-cde2-4c28-a8fe-b4ca6e90c8a4",
   "metadata": {
    "executionCancelledAt": null,
    "executionTime": 51,
    "jupyter": {
     "outputs_hidden": false,
     "source_hidden": false
    },
    "lastExecutedAt": 1699391598109,
    "lastScheduledRunId": null,
    "lastSuccessfullyExecutedCode": "start_train_NN = time.time() #recording training time using Neural Networks\n\ndef neural_network(neurons, Act_func1, Act_func2, Act_func3, Act_func4, epochs):\n    \"\"\"\n    Function to build a neural network\n    \"\"\"\n    \n    model = Sequential()\n\n    model.add(Dense(neurons, input_dim=X_train.shape[1]))\n    model.add(Act_func1())\n    model.add(Dropout(0.25))\n\n    model.add(Dense(neurons))\n    model.add(Act_func2())\n    model.add(Dropout(0.25))\n\n    model.add(Dense(neurons))\n    model.add(Act_func3())\n    model.add(Dropout(0.25))\n\n    model.add(Dense(neurons))\n    model.add(Act_func4())\n    model.add(Dropout(0.25))\n\n    model.add(Dense(1))\n\n    model.compile(loss='mse',optimizer='rmsprop')\n\n    history = model.fit(X_train, y_train, batch_size=64, epochs=epochs, validation_split=0.1, verbose=0)\n    \n    return model",
    "outputsMetadata": {
     "0": {
      "height": 153,
      "type": "stream"
     },
     "1": {
      "height": 36,
      "type": "stream"
     },
     "2": {
      "height": 616,
      "type": "stream"
     }
    }
   },
   "outputs": [],
   "source": [
    "start_train_NN = time.time() #recording training time using Neural Networks\n",
    "\n",
    "def neural_network(neurons, Act_func1, Act_func2, Act_func3, Act_func4, epochs):\n",
    "    \"\"\"\n",
    "    Function to build a neural network\n",
    "    \"\"\"\n",
    "    \n",
    "    model = Sequential()\n",
    "\n",
    "    model.add(Dense(neurons, input_dim=X_train.shape[1]))\n",
    "    model.add(Act_func1())\n",
    "    model.add(Dropout(0.25))\n",
    "\n",
    "    model.add(Dense(neurons))\n",
    "    model.add(Act_func2())\n",
    "    model.add(Dropout(0.25))\n",
    "\n",
    "    model.add(Dense(neurons))\n",
    "    model.add(Act_func3())\n",
    "    model.add(Dropout(0.25))\n",
    "\n",
    "    model.add(Dense(neurons))\n",
    "    model.add(Act_func4())\n",
    "    model.add(Dropout(0.25))\n",
    "\n",
    "    model.add(Dense(1))\n",
    "\n",
    "    model.compile(loss='mse',optimizer='rmsprop')\n",
    "\n",
    "    history = model.fit(X_train, y_train, batch_size=64, epochs=epochs, validation_split=0.1, verbose=0)\n",
    "    \n",
    "    return model"
   ]
  },
  {
   "cell_type": "code",
   "execution_count": 7,
   "id": "3a509bb7-d58d-4b8d-acd4-5882a4391071",
   "metadata": {
    "executionCancelledAt": null,
    "executionTime": 48,
    "lastExecutedAt": 1699391598157,
    "lastScheduledRunId": null,
    "lastSuccessfullyExecutedCode": "def check_accuracy(y_test,y_pred):\n    \"\"\"\n    Function to produce values for metrics to evaluate models\n    (Mean squared error, Root Mean squared error, Mean absolute error and R-Squared)\n    \"\"\"\n    y_test = np.array(y_test).flatten()\n    y_pred = np.array(y_pred).flatten()\n    mse = mean_squared_error(y_test, y_pred)\n    rmse = np.sqrt(mse)\n    mae = mean_absolute_error(y_test, y_pred)\n    r2 = r2_score(y_test, y_pred)\n    return [mse, rmse, mae, r2]"
   },
   "outputs": [],
   "source": [
    "def check_accuracy(y_test,y_pred):\n",
    "    \"\"\"\n",
    "    Function to produce values for metrics to evaluate models\n",
    "    (Mean squared error, Root Mean squared error, Mean absolute error and R-Squared)\n",
    "    \"\"\"\n",
    "    y_test = np.array(y_test).flatten()\n",
    "    y_pred = np.array(y_pred).flatten()\n",
    "    mse = mean_squared_error(y_test, y_pred)\n",
    "    rmse = np.sqrt(mse)\n",
    "    mae = mean_absolute_error(y_test, y_pred)\n",
    "    r2 = r2_score(y_test, y_pred)\n",
    "    return [mse, rmse, mae, r2]"
   ]
  },
  {
   "cell_type": "markdown",
   "id": "df122d80-0210-4b45-a938-ff1e758cd003",
   "metadata": {},
   "source": [
    "### Activation Function selection"
   ]
  },
  {
   "cell_type": "markdown",
   "id": "7e355111-67ee-4912-8534-dbfc115d8a64",
   "metadata": {},
   "source": [
    "Now let's build our three models with aforementioned activation functions"
   ]
  },
  {
   "cell_type": "code",
   "execution_count": 8,
   "id": "4d70ddcb-ec2e-44ec-8d4e-ee634e35a3d3",
   "metadata": {
    "executionCancelledAt": null,
    "executionTime": 8616,
    "lastExecutedAt": 1699391606773,
    "lastScheduledRunId": null,
    "lastSuccessfullyExecutedCode": "model1 = neural_network(120, LeakyReLU, ELU, ReLU, ELU, 10)\nmodel2 = neural_network(120, LeakyReLU, LeakyReLU, LeakyReLU, LeakyReLU, 10)\nmodel3 = neural_network(120, ReLU, ReLU, ReLU, ReLU, 10)",
    "outputsMetadata": {
     "0": {
      "height": 95,
      "type": "stream"
     }
    }
   },
   "outputs": [],
   "source": [
    "model1 = neural_network(120, LeakyReLU, ELU, ReLU, ELU, 10)\n",
    "model2 = neural_network(120, LeakyReLU, LeakyReLU, LeakyReLU, LeakyReLU, 10)\n",
    "model3 = neural_network(120, ReLU, ReLU, ReLU, ReLU, 10)"
   ]
  },
  {
   "cell_type": "markdown",
   "id": "249b3bf7-2bc7-4e14-b096-87316d555be1",
   "metadata": {},
   "source": [
    "Now let's use validation data to choose the best model among above three"
   ]
  },
  {
   "cell_type": "code",
   "execution_count": 9,
   "id": "786a47ae-b54b-465b-8175-966b69e7e436",
   "metadata": {
    "executionCancelledAt": null,
    "executionTime": 413,
    "lastExecutedAt": 1699391607187,
    "lastScheduledRunId": null,
    "lastSuccessfullyExecutedCode": "y_val_model1 = model1.predict(X_val)\ny_val_model2 = model2.predict(X_val)\ny_val_model3 = model3.predict(X_val)",
    "outputsMetadata": {
     "0": {
      "height": 75,
      "type": "stream"
     }
    }
   },
   "outputs": [
    {
     "name": "stdout",
     "output_type": "stream",
     "text": [
      "71/71 [==============================] - 0s 2ms/step\n",
      "71/71 [==============================] - 0s 2ms/step\n",
      "71/71 [==============================] - 0s 2ms/step\n"
     ]
    }
   ],
   "source": [
    "y_val_model1 = model1.predict(X_val)\n",
    "y_val_model2 = model2.predict(X_val)\n",
    "y_val_model3 = model3.predict(X_val)"
   ]
  },
  {
   "cell_type": "code",
   "execution_count": 10,
   "id": "985b681f-92dd-4eaf-bf9f-59914003a7db",
   "metadata": {
    "executionCancelledAt": null,
    "executionTime": 50,
    "lastExecutedAt": 1699391607237,
    "lastScheduledRunId": null,
    "lastSuccessfullyExecutedCode": "y_val_pred = np.concatenate((y_val_model1, y_val_model2, y_val_model3), axis=1)"
   },
   "outputs": [],
   "source": [
    "y_val_pred = np.concatenate((y_val_model1, y_val_model2, y_val_model3), axis=1)"
   ]
  },
  {
   "cell_type": "code",
   "execution_count": 11,
   "id": "c10595fa-dfc2-4e63-a403-18fe68b40804",
   "metadata": {
    "executionCancelledAt": null,
    "executionTime": 53,
    "lastExecutedAt": 1699391607290,
    "lastScheduledRunId": null,
    "lastSuccessfullyExecutedCode": "#Check accuracy among 3 models\ncheck_acc = []\nfor column in range(y_val_pred.shape[1]):\n    accuracy = check_accuracy(y_val, y_val_pred[:, column])\n    check_acc.append(accuracy)\n    \ndf = pd.DataFrame(check_acc, columns = ['MSE', 'RMSE', 'MAE', 'R2'], index = ['Model 1', 'Model 2', 'Model 3'])\ndf",
    "outputsMetadata": {
     "0": {
      "height": 145,
      "type": "dataFrame"
     }
    }
   },
   "outputs": [
    {
     "data": {
      "text/html": [
       "<div>\n",
       "<style scoped>\n",
       "    .dataframe tbody tr th:only-of-type {\n",
       "        vertical-align: middle;\n",
       "    }\n",
       "\n",
       "    .dataframe tbody tr th {\n",
       "        vertical-align: top;\n",
       "    }\n",
       "\n",
       "    .dataframe thead th {\n",
       "        text-align: right;\n",
       "    }\n",
       "</style>\n",
       "<table border=\"1\" class=\"dataframe\">\n",
       "  <thead>\n",
       "    <tr style=\"text-align: right;\">\n",
       "      <th></th>\n",
       "      <th>MSE</th>\n",
       "      <th>RMSE</th>\n",
       "      <th>MAE</th>\n",
       "      <th>R2</th>\n",
       "    </tr>\n",
       "  </thead>\n",
       "  <tbody>\n",
       "    <tr>\n",
       "      <th>Model 1</th>\n",
       "      <td>9.676030</td>\n",
       "      <td>3.110632</td>\n",
       "      <td>2.185134</td>\n",
       "      <td>0.986805</td>\n",
       "    </tr>\n",
       "    <tr>\n",
       "      <th>Model 2</th>\n",
       "      <td>4.663258</td>\n",
       "      <td>2.159458</td>\n",
       "      <td>1.648380</td>\n",
       "      <td>0.993641</td>\n",
       "    </tr>\n",
       "    <tr>\n",
       "      <th>Model 3</th>\n",
       "      <td>3.381441</td>\n",
       "      <td>1.838870</td>\n",
       "      <td>1.352239</td>\n",
       "      <td>0.995389</td>\n",
       "    </tr>\n",
       "  </tbody>\n",
       "</table>\n",
       "</div>"
      ],
      "text/plain": [
       "              MSE      RMSE       MAE        R2\n",
       "Model 1  9.676030  3.110632  2.185134  0.986805\n",
       "Model 2  4.663258  2.159458  1.648380  0.993641\n",
       "Model 3  3.381441  1.838870  1.352239  0.995389"
      ]
     },
     "execution_count": 11,
     "metadata": {},
     "output_type": "execute_result"
    }
   ],
   "source": [
    "#Check accuracy among 3 models\n",
    "check_acc = []\n",
    "for column in range(y_val_pred.shape[1]):\n",
    "    accuracy = check_accuracy(y_val, y_val_pred[:, column])\n",
    "    check_acc.append(accuracy)\n",
    "    \n",
    "df = pd.DataFrame(check_acc, columns = ['MSE', 'RMSE', 'MAE', 'R2'], index = ['Model 1', 'Model 2', 'Model 3'])\n",
    "df"
   ]
  },
  {
   "cell_type": "markdown",
   "id": "75779afd-7a38-407e-8cc0-04131abae44e",
   "metadata": {},
   "source": [
    "### Number of Neurons selection"
   ]
  },
  {
   "cell_type": "markdown",
   "id": "eb1469f3-a354-46e2-8f75-39afb8a9786b",
   "metadata": {},
   "source": [
    "In this step, we will see how many neurons we should use for our model. We will try a value range from 40 to 300 (with the step of 20)."
   ]
  },
  {
   "cell_type": "code",
   "execution_count": 12,
   "id": "74be9c7c-95c6-4a1d-82bc-3cdb4052982e",
   "metadata": {
    "executionCancelledAt": null,
    "executionTime": 49330,
    "jupyter": {
     "outputs_hidden": true,
     "source_hidden": false
    },
    "lastExecutedAt": 1699391656620,
    "lastScheduledRunId": null,
    "lastSuccessfullyExecutedCode": "neuron = np.arange(40,301,20)\nloss = []\nfor i in neuron:\n    model3_epoch = neural_network(i, ReLU, ReLU, ReLU, ReLU, 10)\n    y_val_pre = model3_epoch.predict(X_val)\n    model_val_loss = model3_epoch.evaluate(X_val, y_val)\n    loss.append(model_val_loss)",
    "outputsMetadata": {
     "0": {
      "height": 524,
      "type": "stream"
     }
    }
   },
   "outputs": [
    {
     "name": "stdout",
     "output_type": "stream",
     "text": [
      "71/71 [==============================] - 0s 2ms/step\n",
      "71/71 [==============================] - 0s 2ms/step - loss: 16.5237\n",
      "71/71 [==============================] - 0s 2ms/step\n",
      "71/71 [==============================] - 0s 2ms/step - loss: 8.6132\n",
      "71/71 [==============================] - 0s 2ms/step\n",
      "71/71 [==============================] - 0s 2ms/step - loss: 4.2925\n",
      "71/71 [==============================] - 0s 2ms/step\n",
      "71/71 [==============================] - 0s 2ms/step - loss: 5.7601\n",
      "71/71 [==============================] - 0s 2ms/step\n",
      "71/71 [==============================] - 0s 2ms/step - loss: 3.1527\n",
      "71/71 [==============================] - 0s 2ms/step\n",
      "71/71 [==============================] - 0s 2ms/step - loss: 16.4426\n",
      "71/71 [==============================] - 0s 3ms/step\n",
      "71/71 [==============================] - 0s 2ms/step - loss: 3.6100\n",
      "71/71 [==============================] - 0s 2ms/step\n",
      "71/71 [==============================] - 0s 2ms/step - loss: 4.1781\n",
      "71/71 [==============================] - 0s 2ms/step\n",
      "71/71 [==============================] - 0s 2ms/step - loss: 9.8267\n",
      "71/71 [==============================] - 0s 2ms/step\n",
      "71/71 [==============================] - 0s 2ms/step - loss: 26.3022\n",
      "71/71 [==============================] - 0s 2ms/step\n",
      "71/71 [==============================] - 0s 2ms/step - loss: 4.1555\n",
      "71/71 [==============================] - 0s 2ms/step\n",
      "71/71 [==============================] - 0s 3ms/step - loss: 4.2627\n",
      "71/71 [==============================] - 0s 2ms/step\n",
      "71/71 [==============================] - 0s 2ms/step - loss: 5.9330\n",
      "71/71 [==============================] - 0s 2ms/step\n",
      "71/71 [==============================] - 0s 3ms/step - loss: 7.1042\n"
     ]
    }
   ],
   "source": [
    "neuron = np.arange(40,301,20)\n",
    "loss = []\n",
    "for i in neuron:\n",
    "    model3_epoch = neural_network(i, ReLU, ReLU, ReLU, ReLU, 10)\n",
    "    y_val_pre = model3_epoch.predict(X_val)\n",
    "    model_val_loss = model3_epoch.evaluate(X_val, y_val)\n",
    "    loss.append(model_val_loss)"
   ]
  },
  {
   "cell_type": "code",
   "execution_count": 13,
   "id": "bf461479-6f1f-4227-a2b6-afb7ebb4db7e",
   "metadata": {
    "executionCancelledAt": null,
    "executionTime": 217,
    "lastExecutedAt": 1699391656837,
    "lastScheduledRunId": null,
    "lastSuccessfullyExecutedCode": "plt.figure(figsize=(10,6))\nplt.plot(neuron, loss, '-')\nplt.title('Validation Loss over 40-300 neurons')\nplt.xlabel('Loss on Validation set')\nplt.ylabel('Number of neurons')\nplt.show()"
   },
   "outputs": [
    {
     "data": {
      "image/png": "[encoded data removed]",
      "text/plain": [
       "<Figure size 1000x600 with 1 Axes>"
      ]
     },
     "metadata": {},
     "output_type": "display_data"
    }
   ],
   "source": [
    "plt.figure(figsize=(10,6))\n",
    "plt.plot(neuron, loss, '-')\n",
    "plt.title('Validation Loss over 40-300 neurons')\n",
    "plt.xlabel('Loss on Validation set')\n",
    "plt.ylabel('Number of neurons')\n",
    "plt.show()"
   ]
  },
  {
   "cell_type": "markdown",
   "id": "ec865c16-1f0f-4fc9-bdfc-e611ab223d59",
   "metadata": {},
   "source": [
    "### Number of Epochs selection"
   ]
  },
  {
   "cell_type": "markdown",
   "id": "e6c3940f-c407-40c5-b8dc-b315704b5412",
   "metadata": {},
   "source": [
    "In this step, we will use the chosen activation functions and number of neurons to build a neural network with 500 epochs, and see how many epochs we should use to avoid overfitting and still get a reasonable loss."
   ]
  },
  {
   "cell_type": "code",
   "execution_count": 14,
   "id": "11947507-e8ef-4555-8dc0-aa5a50b95515",
   "metadata": {
    "executionCancelledAt": null,
    "executionTime": 108028,
    "lastExecutedAt": 1699391764865,
    "lastScheduledRunId": null,
    "lastSuccessfullyExecutedCode": "neurons = 120\nmodel = Sequential()\n\nmodel.add(Dense(neurons, input_dim=X_train.shape[1]))\nmodel.add(ReLU())\nmodel.add(Dropout(0.25))\n\nmodel.add(Dense(neurons))\nmodel.add(ReLU())\nmodel.add(Dropout(0.25))\n\nmodel.add(Dense(neurons))\nmodel.add(ReLU())\nmodel.add(Dropout(0.25))\n\nmodel.add(Dense(neurons))\nmodel.add(ReLU())\nmodel.add(Dropout(0.25))\n\nmodel.add(Dense(1))\n\nmodel.compile(loss='mse',optimizer='rmsprop')\n\nhistory = model.fit(X_train, y_train, batch_size=64, epochs=500, validation_split=0.1, verbose=0)"
   },
   "outputs": [],
   "source": [
    "neurons = 120\n",
    "model = Sequential()\n",
    "\n",
    "model.add(Dense(neurons, input_dim=X_train.shape[1]))\n",
    "model.add(ReLU())\n",
    "model.add(Dropout(0.25))\n",
    "\n",
    "model.add(Dense(neurons))\n",
    "model.add(ReLU())\n",
    "model.add(Dropout(0.25))\n",
    "\n",
    "model.add(Dense(neurons))\n",
    "model.add(ReLU())\n",
    "model.add(Dropout(0.25))\n",
    "\n",
    "model.add(Dense(neurons))\n",
    "model.add(ReLU())\n",
    "model.add(Dropout(0.25))\n",
    "\n",
    "model.add(Dense(1))\n",
    "\n",
    "model.compile(loss='mse',optimizer='rmsprop')\n",
    "\n",
    "history = model.fit(X_train, y_train, batch_size=64, epochs=500, validation_split=0.1, verbose=0)"
   ]
  },
  {
   "cell_type": "code",
   "execution_count": 15,
   "id": "2dbb801a-5b9e-47cf-8b01-cda45b215d7e",
   "metadata": {
    "executionCancelledAt": null,
    "executionTime": 233,
    "lastExecutedAt": 1699391765099,
    "lastScheduledRunId": null,
    "lastSuccessfullyExecutedCode": "#Visualize the loss over numbers of epochs\nhistory_df = pd.DataFrame(history.history)\n\nplt.figure(figsize=(10, 6))\nplt.plot(history_df['loss'], label='Training Loss')\nplt.plot(history_df['val_loss'], label='Validation Loss')\nplt.xlabel('Epoch')\nplt.ylabel('Loss (MSE)')\nplt.legend()\nplt.title('Training and Validation Loss Over Epochs')\nx_ticks = range(0, len(history_df), 20)\nplt.xticks(x_ticks)\nplt.show()\n\nend_train_NN = time.time() #done training our Neural Networks model"
   },
   "outputs": [
    {
     "data": {
      "image/png": "[encoded data removed]",
      "text/plain": [
       "<Figure size 1000x600 with 1 Axes>"
      ]
     },
     "metadata": {},
     "output_type": "display_data"
    }
   ],
   "source": [
    "#Visualize the loss over numbers of epochs\n",
    "history_df = pd.DataFrame(history.history)\n",
    "\n",
    "plt.figure(figsize=(10, 6))\n",
    "plt.plot(history_df['loss'], label='Training Loss')\n",
    "plt.plot(history_df['val_loss'], label='Validation Loss')\n",
    "plt.xlabel('Epoch')\n",
    "plt.ylabel('Loss (MSE)')\n",
    "plt.legend()\n",
    "plt.title('Training and Validation Loss Over Epochs')\n",
    "x_ticks = range(0, len(history_df), 20)\n",
    "plt.xticks(x_ticks)\n",
    "plt.show()\n",
    "\n",
    "end_train_NN = time.time() #done training our Neural Networks model"
   ]
  },
  {
   "cell_type": "markdown",
   "id": "7a236b12-1d9c-451a-b9f3-255337805c16",
   "metadata": {},
   "source": [
    "### Final Model"
   ]
  },
  {
   "cell_type": "markdown",
   "id": "8089cc55-af64-480b-99b1-58a4386e23be",
   "metadata": {},
   "source": [
    "To sum up, our final model will contain:\n",
    "- 4 layers of `ReLU` activation function\n",
    "- 120 neurons for each layer\n",
    "- 20 epochs\n",
    "Let's see how our model works on testing data set"
   ]
  },
  {
   "cell_type": "code",
   "execution_count": 16,
   "id": "ac9da717-766d-4d6a-9cca-d63806b1d937",
   "metadata": {
    "executionCancelledAt": null,
    "executionTime": 4856,
    "lastExecutedAt": 1699391769955,
    "lastScheduledRunId": null,
    "lastSuccessfullyExecutedCode": "final_model = neural_network(120, ReLU, ReLU, ReLU, ReLU, 20)"
   },
   "outputs": [],
   "source": [
    "final_model = neural_network(120, ReLU, ReLU, ReLU, ReLU, 20)"
   ]
  },
  {
   "cell_type": "code",
   "execution_count": 17,
   "id": "1760613c-cce4-4c8e-a435-4a85ff3861b6",
   "metadata": {
    "executionCancelledAt": null,
    "executionTime": 137,
    "lastExecutedAt": 1699391770093,
    "lastScheduledRunId": null,
    "lastSuccessfullyExecutedCode": "y_pred = final_model.predict(X_test)",
    "outputsMetadata": {
     "0": {
      "height": 36,
      "type": "stream"
     }
    }
   },
   "outputs": [
    {
     "name": "stdout",
     "output_type": "stream",
     "text": [
      "71/71 [==============================] - 0s 2ms/step\n"
     ]
    }
   ],
   "source": [
    "y_pred = final_model.predict(X_test)"
   ]
  },
  {
   "cell_type": "code",
   "execution_count": 18,
   "id": "0a8b2abe-7209-4632-a393-f1d6a1d023d2",
   "metadata": {
    "executionCancelledAt": null,
    "executionTime": 49,
    "lastExecutedAt": 1699391770142,
    "lastScheduledRunId": null,
    "lastSuccessfullyExecutedCode": "final_accuracy = check_accuracy(y_test,y_pred)\nprint('Accuracy checking for final model:')\nprint(f\"Mean Squared Error: {final_accuracy[0]:.2f}\")\nprint(f\"Root Mean Squared Error: {final_accuracy[1]:.2f}\")\nprint(f\"Mean Absolute Error: {final_accuracy[2]:.2f}\")\nprint(f\"R-squared: {final_accuracy[3]: .4f}\")",
    "outputsMetadata": {
     "0": {
      "height": 114,
      "type": "stream"
     }
    }
   },
   "outputs": [
    {
     "name": "stdout",
     "output_type": "stream",
     "text": [
      "Accuracy checking for final model:\n",
      "Mean Squared Error: 5.45\n",
      "Root Mean Squared Error: 2.33\n",
      "Mean Absolute Error: 1.60\n",
      "R-squared:  0.9929\n"
     ]
    }
   ],
   "source": [
    "final_accuracy = check_accuracy(y_test,y_pred)\n",
    "print('Accuracy checking for final model:')\n",
    "print(f\"Mean Squared Error: {final_accuracy[0]:.2f}\")\n",
    "print(f\"Root Mean Squared Error: {final_accuracy[1]:.2f}\")\n",
    "print(f\"Mean Absolute Error: {final_accuracy[2]:.2f}\")\n",
    "print(f\"R-squared: {final_accuracy[3]: .4f}\")"
   ]
  },
  {
   "cell_type": "markdown",
   "id": "f048cf52-703b-4a3c-a9fa-5b005433044e",
   "metadata": {},
   "source": [
    "The model produces good result with small errors and high R-squared value. Conclusion: the accuracy between our Neural Network model and Monte Carlo method is really high."
   ]
  },
  {
   "cell_type": "markdown",
   "id": "3d590ad8-f5e7-41d2-86d2-91f18effb612",
   "metadata": {},
   "source": [
    "To see it better, let's visualize the out-of-sample comparison between Neural Network and Monte Carlo methods in predicting option prices."
   ]
  },
  {
   "cell_type": "code",
   "execution_count": 19,
   "id": "6eba5805-c386-4999-af7f-3f8a9a3f0fe5",
   "metadata": {
    "executionCancelledAt": null,
    "executionTime": 143,
    "lastExecutedAt": 1699391770285,
    "lastScheduledRunId": null,
    "lastSuccessfullyExecutedCode": "#Visualize\nplt.figure(figsize = (6,6))\nplt.plot(y_test, y_pred, '.')\nplt.title('OOS Comparison - 4 ReLU, 120 neurons, epochs')\nplt.xlabel('Monte Carlo Prices')\nplt.ylabel('Neural Networks Prices')\nplt.show()"
   },
   "outputs": [
    {
     "data": {
      "image/png": "[encoded data removed]",
      "text/plain": [
       "<Figure size 600x600 with 1 Axes>"
      ]
     },
     "metadata": {},
     "output_type": "display_data"
    }
   ],
   "source": [
    "#Visualize\n",
    "plt.figure(figsize = (6,6))\n",
    "plt.plot(y_test, y_pred, '.')\n",
    "plt.title('OOS Comparison - 4 ReLU, 120 neurons, epochs')\n",
    "plt.xlabel('Monte Carlo Prices')\n",
    "plt.ylabel('Neural Networks Prices')\n",
    "plt.show()"
   ]
  },
  {
   "cell_type": "markdown",
   "id": "21149f7f-e660-4946-8ea5-56fd5d113f4d",
   "metadata": {},
   "source": [
    "## Evaluate the model on the Testing Dataset"
   ]
  },
  {
   "cell_type": "markdown",
   "id": "cf1620ad-11f1-4dea-b21a-762eb0420d64",
   "metadata": {},
   "source": [
    "### Compare speed of two methods"
   ]
  },
  {
   "cell_type": "code",
   "execution_count": 20,
   "id": "b1c649e1-ea7d-49bf-9a1b-d1a8b8b5f604",
   "metadata": {
    "executionCancelledAt": null,
    "executionTime": 48,
    "lastExecutedAt": 1699391770333,
    "lastScheduledRunId": null,
    "lastSuccessfullyExecutedCode": "#we roughly estimate time for simulate prices for tesing set using Monte Carlo method\n#roughly 1/5 time of simulating the whole data set\n\ntraining_MC = (end_time_MC - start_time_MC)*0.85\ntesting_MC = (end_time_MC - start_time_MC)*0.15\ntraining_NN = end_train_NN - start_train_NN\n\nprint(f'Runtime on Training and Validation data set using Monte Carlo is: {training_MC: .2f}')\nprint(f'Runtime to traing the Neural Network model is: {training_NN: .2f}')\nprint('------------------------------------------------------------------------')\nprint(f'Runtime on Testing data set using Monte Carlo is: {testing_MC: .2f}')",
    "outputsMetadata": {
     "0": {
      "height": 95,
      "type": "stream"
     }
    }
   },
   "outputs": [
    {
     "name": "stdout",
     "output_type": "stream",
     "text": [
      "Runtime on Training and Validation data set using Monte Carlo is:  863.05\n",
      "Runtime to traing the Neural Network model is:  530.14\n",
      "------------------------------------------------------------------------\n",
      "Runtime on Testing data set using Monte Carlo is:  152.30\n"
     ]
    }
   ],
   "source": [
    "#we roughly estimate time for simulate prices for tesing set using Monte Carlo method\n",
    "#roughly 1/5 time of simulating the whole data set\n",
    "\n",
    "training_MC = (end_time_MC - start_time_MC)*0.85\n",
    "testing_MC = (end_time_MC - start_time_MC)*0.15\n",
    "training_NN = end_train_NN - start_train_NN\n",
    "\n",
    "print(f'Runtime on Training and Validation data set using Monte Carlo is: {training_MC: .2f}')\n",
    "print(f'Runtime to traing the Neural Network model is: {training_NN: .2f}')\n",
    "print('------------------------------------------------------------------------')\n",
    "print(f'Runtime on Testing data set using Monte Carlo is: {testing_MC: .2f}')"
   ]
  },
  {
   "cell_type": "markdown",
   "id": "d2c5642b-6143-4dbb-b2a5-3176116315ee",
   "metadata": {},
   "source": [
    "### Compare Accuracy"
   ]
  },
  {
   "cell_type": "markdown",
   "id": "c63b61d0-d4c1-432b-b34d-ca6f666b6295",
   "metadata": {},
   "source": [
    "As above"
   ]
  }
 ],
 "metadata": {
  "editor": "DataCamp Workspace",
  "kernelspec": {
   "display_name": "Python 3 (ipykernel)",
   "language": "python",
   "name": "python3"
  },
  "language_info": {
   "codemirror_mode": {
    "name": "ipython",
    "version": 3
   },
   "file_extension": ".py",
   "mimetype": "text/x-python",
   "name": "python",
   "nbconvert_exporter": "python",
   "pygments_lexer": "ipython3",
   "version": "3.9.13"
  }
 },
 "nbformat": 4,
 "nbformat_minor": 5
}
